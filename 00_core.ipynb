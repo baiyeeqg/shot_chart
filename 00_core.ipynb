{
 "cells": [
  {
   "cell_type": "code",
   "execution_count": 2,
   "metadata": {},
   "outputs": [],
   "source": [
    "# default_exp core"
   ]
  },
  {
   "cell_type": "markdown",
   "metadata": {},
   "source": [
    "# module name here\n",
    "\n",
    "> API details."
   ]
  },
  {
   "cell_type": "code",
   "execution_count": 3,
   "metadata": {},
   "outputs": [],
   "source": [
    "#hide\n",
    "from nbdev.showdoc import *"
   ]
  },
  {
   "cell_type": "code",
   "execution_count": 42,
   "metadata": {},
   "outputs": [],
   "source": [
    "# export\n",
    "from pathlib import Path\n",
    "import os\n",
    "import yaml\n",
    "import pandas as pd\n",
    "import requests\n",
    "import tarfile\n",
    "from fastprogress.fastprogress import master_bar, progress_bar\n",
    "import matplotlib.pyplot as plt"
   ]
  },
  {
   "cell_type": "code",
   "execution_count": 5,
   "metadata": {},
   "outputs": [],
   "source": [
    "# export\n",
    "class Config:\n",
    "    config_path = Path(os.getenv('SHOTCHART_HOME', '~/.shot_chart')).expanduser()\n",
    "    config_file = config_path/'config.yml'\n",
    "\n",
    "    def __init__(self):\n",
    "        self.config_path.mkdir(parents=True, exist_ok=True)\n",
    "        if not self.config_file.exists(): self.create_config()\n",
    "        self.d = self.load_config()\n",
    "\n",
    "    def __getitem__(self,k):\n",
    "        k = k.lower()\n",
    "        if k not in self.d: k = k+'_path'\n",
    "        return Path(self.d[k])\n",
    "\n",
    "    def __getattr__(self,k):\n",
    "        if k=='d': raise AttributeError\n",
    "        return self[k]\n",
    "\n",
    "    def __setitem__(self,k,v): self.d[k] = str(v)\n",
    "    def __contains__(self,k): return k in self.d\n",
    "\n",
    "    def load_config(self):\n",
    "        with open(self.config_file, 'r') as f:\n",
    "            config = yaml.safe_load(f)\n",
    "            if 'version' in config and config['version'] == 1: return config\n",
    "        self.create_config()\n",
    "        return self.load_config()\n",
    "\n",
    "    def create_config(self):\n",
    "        config = {'data_path':    str(self.config_path/'data'),\n",
    "                  'archive_path':    str(self.config_path/'archive'),\n",
    "                  'version':      1}\n",
    "        self.save_file(config)\n",
    "\n",
    "    def save(self): self.save_file(self.d)\n",
    "    def save_file(self, config):\n",
    "        with self.config_file.open('w') as f: yaml.dump(config, f, default_flow_style=False)"
   ]
  },
  {
   "cell_type": "code",
   "execution_count": 6,
   "metadata": {},
   "outputs": [],
   "source": [
    "config = Config()"
   ]
  },
  {
   "cell_type": "markdown",
   "metadata": {},
   "source": [
    "## URLs -"
   ]
  },
  {
   "cell_type": "code",
   "execution_count": 7,
   "metadata": {},
   "outputs": [],
   "source": [
    "# export\n",
    "class URLs():\n",
    "    \"Global constants for dataset and model URLs.\"\n",
    "    LOCAL_PATH = Path.cwd()\n",
    "    S3 = 'https://nba-shot-charts.s3.amazonaws.com/'\n",
    "\n",
    "    SHOTS_2000    = f'{S3}shots-2000.tgz'\n",
    "    SHOTS_2001    = f'{S3}shots-2001.tgz'\n",
    "    SHOTS_2002    = f'{S3}shots-2002.tgz'\n",
    "    SHOTS_2003    = f'{S3}shots-2003.tgz'\n",
    "    SHOTS_2004    = f'{S3}shots-2004.tgz'\n",
    "    SHOTS_2005    = f'{S3}shots-2005.tgz'\n",
    "    SHOTS_2006    = f'{S3}shots-2006.tgz'\n",
    "    SHOTS_2007    = f'{S3}shots-2007.tgz'\n",
    "    SHOTS_2008    = f'{S3}shots-2008.tgz'\n",
    "    SHOTS_2009    = f'{S3}shots-2009.tgz'\n",
    "    SHOTS_2010    = f'{S3}shots-2010.tgz'\n",
    "    SHOTS_2011    = f'{S3}shots-2011.tgz'\n",
    "    SHOTS_2012    = f'{S3}shots-2012.tgz'\n",
    "    SHOTS_2013    = f'{S3}shots-2013.tgz'\n",
    "    SHOTS_2014    = f'{S3}shots-2014.tgz'\n",
    "    SHOTS_2015    = f'{S3}shots-2015.tgz'\n",
    "    SHOTS_2016    = f'{S3}shots-2016.tgz'\n",
    "    SHOTS_2017    = f'{S3}shots-2017.tgz'\n",
    "    SHOTS_2018    = f'{S3}shots-2018.tgz'\n",
    "    SHOTS_2019    = f'{S3}shots-2019.tgz'\n",
    "\n",
    "    def path(url, c_key='archive'):\n",
    "        fname = url.split('/')[-1]\n",
    "        local_path = URLs.LOCAL_PATH/('models' if c_key=='models' else 'data')/fname\n",
    "        if local_path.exists(): return local_path\n",
    "        return Config()[c_key]/fname"
   ]
  },
  {
   "cell_type": "markdown",
   "metadata": {},
   "source": [
    "## Downloading"
   ]
  },
  {
   "cell_type": "code",
   "execution_count": 8,
   "metadata": {},
   "outputs": [],
   "source": [
    "# export\n",
    "def download_url(url, dest, overwrite=False, pbar=None, show_progress=True, chunk_size=1024*1024,\n",
    "                 timeout=4, retries=5):\n",
    "    \"Download `url` to `dest` unless it exists and not `overwrite`\"\n",
    "    if os.path.exists(dest) and not overwrite: return\n",
    "\n",
    "    s = requests.Session()\n",
    "    s.mount('http://',requests.adapters.HTTPAdapter(max_retries=retries))\n",
    "    # additional line to identify as a firefox browser, see fastai/#2438\n",
    "    s.headers.update({'User-Agent': 'Mozilla/5.0 (X11; Ubuntu; Linux x86_64; rv:71.0) Gecko/20100101 Firefox/71.0'})\n",
    "    u = s.get(url, stream=True, timeout=timeout)\n",
    "    try: file_size = int(u.headers[\"Content-Length\"])\n",
    "    except: show_progress = False\n",
    "\n",
    "    with open(dest, 'wb') as f:\n",
    "        nbytes = 0\n",
    "        if show_progress: pbar = progress_bar(range(file_size), leave=False, parent=pbar)\n",
    "        try:\n",
    "            if show_progress: pbar.update(0)\n",
    "            for chunk in u.iter_content(chunk_size=chunk_size):\n",
    "                nbytes += len(chunk)\n",
    "                if show_progress: pbar.update(nbytes)\n",
    "                f.write(chunk)\n",
    "        except requests.exceptions.ConnectionError as e:\n",
    "            fname = url.split('/')[-1]\n",
    "            data_dir = dest.parent\n",
    "            print(f'\\n Download of {url} has failed after {retries} retries\\n'\n",
    "                  f' Fix the download manually:\\n'\n",
    "                  f'$ mkdir -p {data_dir}\\n'\n",
    "                  f'$ cd {data_dir}\\n'\n",
    "                  f'$ wget -c {url}\\n'\n",
    "                  f'$ tar xf {fname}\\n'\n",
    "                  f' And re-run your code once the download is successful\\n')"
   ]
  },
  {
   "cell_type": "code",
   "execution_count": 9,
   "metadata": {},
   "outputs": [],
   "source": [
    "# export\n",
    "def download_data(url, fname=None, c_key='archive', force_download=False):\n",
    "    \"Download `url` to `fname`.\"\n",
    "    fname = Path(fname or URLs.path(url, c_key=c_key))\n",
    "    fname.parent.mkdir(parents=True, exist_ok=True)\n",
    "    if not fname.exists() or force_download: download_url(url, fname, overwrite=force_download)\n",
    "    return fname"
   ]
  },
  {
   "cell_type": "markdown",
   "metadata": {},
   "source": [
    "### Extract"
   ]
  },
  {
   "cell_type": "code",
   "execution_count": 10,
   "metadata": {},
   "outputs": [],
   "source": [
    "#export\n",
    "def file_extract(fname, dest='.'):\n",
    "    \"Extract `fname` to `dest` using `tarfile` or `zipfile\"\n",
    "    fname = str(fname)\n",
    "    if   fname.endswith('gz'):  tarfile.open(fname, 'r:gz').extractall(dest)\n",
    "    elif fname.endswith('zip'): zipfile.ZipFile(fname     ).extractall(dest)\n",
    "    else: raise Exception(f'Unrecognized archive: {fname}')"
   ]
  },
  {
   "cell_type": "markdown",
   "metadata": {},
   "source": [
    "`file_extract` is used by default in `untar_data` to decompress the downloaded file."
   ]
  },
  {
   "cell_type": "code",
   "execution_count": 11,
   "metadata": {},
   "outputs": [],
   "source": [
    "#export\n",
    "def untar_data(url, fname=None, dest=None, c_key='data', force_download=False, extract_func=file_extract):\n",
    "    \"Download `url` to `fname` if `dest` doesn't exist, and un-tgz to folder `dest`.\"\n",
    "    default_dest = URLs.path(url, c_key=c_key).with_suffix('.csv')\n",
    "    dest = default_dest if dest is None else Path(dest)/default_dest.name\n",
    "    fname = Path(fname or URLs.path(url))\n",
    "#     if fname.exists() and _get_check(url) and _check_file(fname) != _get_check(url):\n",
    "#         print(\"A new version of this dataset is available, downloading...\")\n",
    "#         force_download = True\n",
    "    if force_download:\n",
    "        if fname.exists(): os.remove(fname)\n",
    "        if dest.exists(): shutil.rmtree(dest)\n",
    "    if not dest.exists():\n",
    "        fname = download_data(url, fname=fname, c_key=c_key)\n",
    "#         if _get_check(url) and _check_file(fname) != _get_check(url):\n",
    "#             print(f\"File downloaded is broken. Remove {fname} and try again.\")\n",
    "        extract_func(fname, dest.parent)\n",
    "    return dest"
   ]
  },
  {
   "cell_type": "code",
   "execution_count": 12,
   "metadata": {},
   "outputs": [],
   "source": [
    "#export\n",
    "def make_df(path):\n",
    "    \"Creates a pandas df from `path`\"\n",
    "    return pd.read_csv(path)"
   ]
  },
  {
   "cell_type": "code",
   "execution_count": 83,
   "metadata": {},
   "outputs": [
    {
     "data": {
      "text/html": [],
      "text/plain": [
       "<IPython.core.display.HTML object>"
      ]
     },
     "metadata": {},
     "output_type": "display_data"
    }
   ],
   "source": [
    "shots_2001 = make_df(untar_data(URLs.SHOTS_2001))"
   ]
  },
  {
   "cell_type": "code",
   "execution_count": 84,
   "metadata": {},
   "outputs": [
    {
     "data": {
      "text/html": [
       "<div>\n",
       "<style scoped>\n",
       "    .dataframe tbody tr th:only-of-type {\n",
       "        vertical-align: middle;\n",
       "    }\n",
       "\n",
       "    .dataframe tbody tr th {\n",
       "        vertical-align: top;\n",
       "    }\n",
       "\n",
       "    .dataframe thead th {\n",
       "        text-align: right;\n",
       "    }\n",
       "</style>\n",
       "<table border=\"1\" class=\"dataframe\">\n",
       "  <thead>\n",
       "    <tr style=\"text-align: right;\">\n",
       "      <th></th>\n",
       "      <th>Unnamed: 0</th>\n",
       "      <th>game_id</th>\n",
       "      <th>year</th>\n",
       "      <th>month</th>\n",
       "      <th>day</th>\n",
       "      <th>winner</th>\n",
       "      <th>loser</th>\n",
       "      <th>x</th>\n",
       "      <th>y</th>\n",
       "      <th>play</th>\n",
       "      <th>time_remaining</th>\n",
       "      <th>quarter</th>\n",
       "      <th>shots_by</th>\n",
       "      <th>outcome</th>\n",
       "      <th>attempt</th>\n",
       "      <th>distance</th>\n",
       "      <th>team</th>\n",
       "      <th>winner_score</th>\n",
       "      <th>loser_score</th>\n",
       "    </tr>\n",
       "  </thead>\n",
       "  <tbody>\n",
       "    <tr>\n",
       "      <th>0</th>\n",
       "      <td>80</td>\n",
       "      <td>200110300CLE</td>\n",
       "      <td>2001</td>\n",
       "      <td>10</td>\n",
       "      <td>30</td>\n",
       "      <td>Boston</td>\n",
       "      <td>Cleveland</td>\n",
       "      <td>46px</td>\n",
       "      <td>57px</td>\n",
       "      <td>1st quarter, 11:33.0 remaining&lt;br&gt;Andre Miller...</td>\n",
       "      <td>11:33.0</td>\n",
       "      <td>1</td>\n",
       "      <td>Andre Miller</td>\n",
       "      <td>missed</td>\n",
       "      <td>2-pointer</td>\n",
       "      <td>18ft</td>\n",
       "      <td>Cleveland</td>\n",
       "      <td>0</td>\n",
       "      <td>0</td>\n",
       "    </tr>\n",
       "    <tr>\n",
       "      <th>1</th>\n",
       "      <td>81</td>\n",
       "      <td>200110300CLE</td>\n",
       "      <td>2001</td>\n",
       "      <td>10</td>\n",
       "      <td>30</td>\n",
       "      <td>Boston</td>\n",
       "      <td>Cleveland</td>\n",
       "      <td>97px</td>\n",
       "      <td>279px</td>\n",
       "      <td>1st quarter, 11:16.0 remaining&lt;br&gt;Chris Mihm m...</td>\n",
       "      <td>11:16.0</td>\n",
       "      <td>1</td>\n",
       "      <td>Chris Mihm</td>\n",
       "      <td>made</td>\n",
       "      <td>2-pointer</td>\n",
       "      <td>6ft</td>\n",
       "      <td>Cleveland</td>\n",
       "      <td>2</td>\n",
       "      <td>2</td>\n",
       "    </tr>\n",
       "    <tr>\n",
       "      <th>2</th>\n",
       "      <td>0</td>\n",
       "      <td>200110300CLE</td>\n",
       "      <td>2001</td>\n",
       "      <td>10</td>\n",
       "      <td>30</td>\n",
       "      <td>Boston</td>\n",
       "      <td>Cleveland</td>\n",
       "      <td>67px</td>\n",
       "      <td>224px</td>\n",
       "      <td>1st quarter, 11:03.0 remaining&lt;br&gt;Antoine Walk...</td>\n",
       "      <td>11:03.0</td>\n",
       "      <td>1</td>\n",
       "      <td>Antoine Walker</td>\n",
       "      <td>missed</td>\n",
       "      <td>2-pointer</td>\n",
       "      <td>2ft</td>\n",
       "      <td>Boston</td>\n",
       "      <td>2</td>\n",
       "      <td>2</td>\n",
       "    </tr>\n",
       "    <tr>\n",
       "      <th>3</th>\n",
       "      <td>1</td>\n",
       "      <td>200110300CLE</td>\n",
       "      <td>2001</td>\n",
       "      <td>10</td>\n",
       "      <td>30</td>\n",
       "      <td>Boston</td>\n",
       "      <td>Cleveland</td>\n",
       "      <td>61px</td>\n",
       "      <td>230px</td>\n",
       "      <td>1st quarter, 10:59.0 remaining&lt;br&gt;Tony Battie ...</td>\n",
       "      <td>10:59.0</td>\n",
       "      <td>1</td>\n",
       "      <td>Tony Battie</td>\n",
       "      <td>missed</td>\n",
       "      <td>2-pointer</td>\n",
       "      <td>1ft</td>\n",
       "      <td>Boston</td>\n",
       "      <td>2</td>\n",
       "      <td>2</td>\n",
       "    </tr>\n",
       "    <tr>\n",
       "      <th>4</th>\n",
       "      <td>82</td>\n",
       "      <td>200110300CLE</td>\n",
       "      <td>2001</td>\n",
       "      <td>10</td>\n",
       "      <td>30</td>\n",
       "      <td>Boston</td>\n",
       "      <td>Cleveland</td>\n",
       "      <td>84px</td>\n",
       "      <td>173px</td>\n",
       "      <td>1st quarter, 10:42.0 remaining&lt;br&gt;Chris Mihm m...</td>\n",
       "      <td>10:42.0</td>\n",
       "      <td>1</td>\n",
       "      <td>Chris Mihm</td>\n",
       "      <td>made</td>\n",
       "      <td>2-pointer</td>\n",
       "      <td>8ft</td>\n",
       "      <td>Cleveland</td>\n",
       "      <td>2</td>\n",
       "      <td>4</td>\n",
       "    </tr>\n",
       "  </tbody>\n",
       "</table>\n",
       "</div>"
      ],
      "text/plain": [
       "   Unnamed: 0       game_id  year  month  day  winner      loser     x      y  \\\n",
       "0          80  200110300CLE  2001     10   30  Boston  Cleveland  46px   57px   \n",
       "1          81  200110300CLE  2001     10   30  Boston  Cleveland  97px  279px   \n",
       "2           0  200110300CLE  2001     10   30  Boston  Cleveland  67px  224px   \n",
       "3           1  200110300CLE  2001     10   30  Boston  Cleveland  61px  230px   \n",
       "4          82  200110300CLE  2001     10   30  Boston  Cleveland  84px  173px   \n",
       "\n",
       "                                                play time_remaining  quarter  \\\n",
       "0  1st quarter, 11:33.0 remaining<br>Andre Miller...        11:33.0        1   \n",
       "1  1st quarter, 11:16.0 remaining<br>Chris Mihm m...        11:16.0        1   \n",
       "2  1st quarter, 11:03.0 remaining<br>Antoine Walk...        11:03.0        1   \n",
       "3  1st quarter, 10:59.0 remaining<br>Tony Battie ...        10:59.0        1   \n",
       "4  1st quarter, 10:42.0 remaining<br>Chris Mihm m...        10:42.0        1   \n",
       "\n",
       "         shots_by outcome    attempt distance       team  winner_score  \\\n",
       "0    Andre Miller  missed  2-pointer     18ft  Cleveland             0   \n",
       "1      Chris Mihm    made  2-pointer      6ft  Cleveland             2   \n",
       "2  Antoine Walker  missed  2-pointer      2ft     Boston             2   \n",
       "3     Tony Battie  missed  2-pointer      1ft     Boston             2   \n",
       "4      Chris Mihm    made  2-pointer      8ft  Cleveland             2   \n",
       "\n",
       "   loser_score  \n",
       "0            0  \n",
       "1            2  \n",
       "2            2  \n",
       "3            2  \n",
       "4            4  "
      ]
     },
     "execution_count": 84,
     "metadata": {},
     "output_type": "execute_result"
    }
   ],
   "source": [
    "shots_2001.head()"
   ]
  },
  {
   "cell_type": "markdown",
   "metadata": {},
   "source": [
    "## List unique game ids"
   ]
  },
  {
   "cell_type": "code",
   "execution_count": 85,
   "metadata": {},
   "outputs": [],
   "source": [
    "#export\n",
    "def list_game_ids(df,year,month,day):\n",
    "    \"Lists unique game ids for a given date\"\n",
    "    return df.loc[(df['year']==year) & (df['month']==month) & (df['day']==day)]['game_id'].drop_duplicates()\n",
    "    "
   ]
  },
  {
   "cell_type": "code",
   "execution_count": 86,
   "metadata": {},
   "outputs": [
    {
     "data": {
      "text/plain": [
       "27879    200111250GSW\n",
       "28827    200111250TOR\n",
       "29451    200111250SEA\n",
       "29606    200111250LAL\n",
       "30416    200111250LAC\n",
       "Name: game_id, dtype: object"
      ]
     },
     "execution_count": 86,
     "metadata": {},
     "output_type": "execute_result"
    }
   ],
   "source": [
    "list_game_ids(shots_2001,2001,11,25)"
   ]
  },
  {
   "cell_type": "markdown",
   "metadata": {},
   "source": [
    "## Plot winner shot chart"
   ]
  },
  {
   "cell_type": "code",
   "execution_count": null,
   "metadata": {},
   "outputs": [],
   "source": []
  },
  {
   "cell_type": "code",
   "execution_count": 107,
   "metadata": {},
   "outputs": [],
   "source": [
    "#export\n",
    "def plot_winner(df, game_id,made=True,missed=True):\n",
    "    \"Plots the shot chart for the winner team of `game_id`\"\n",
    "    img = plt.imread(\"http://d2p3bygnnzw9w3.cloudfront.net/req/1/images/bbr/nbahalfcourt.png\")\n",
    "    implot = plt.imshow(img, extent=[0,500,0,472])\n",
    "    #find winner first\n",
    "    winner = df.loc[df[\"game_id\"]==game_id].iloc[0][\"winner\"]\n",
    "    shots_df = df.loc[(df[\"game_id\"]==game_id) & (df[\"team\"]==winner)]\n",
    "    #misses vs made\n",
    "    if made:\n",
    "        mades_df = shots_df.loc[shots_df['outcome']=='made']\n",
    "        ys = mades_df['x'].apply(lambda x: x.split(\"px\")[0]).to_list()\n",
    "        ys = [472 - int(x) for x in ys]\n",
    "        xs = mades_df['y'].apply(lambda x: int(x.split(\"px\")[0])).to_list()\n",
    "        plt.scatter(xs,ys)\n",
    "    if missed:\n",
    "        misses_df = shots_df.loc[shots_df['outcome']=='missed']\n",
    "        ys = misses_df['x'].apply(lambda x: x.split(\"px\")[0]).to_list()\n",
    "        ys = [472 - int(x) for x in ys]\n",
    "        xs = misses_df['y'].apply(lambda x: int(x.split(\"px\")[0])).to_list()\n",
    "        plt.scatter(xs,ys,marker=\"x\")\n",
    "        plt.show()"
   ]
  },
  {
   "cell_type": "code",
   "execution_count": 108,
   "metadata": {},
   "outputs": [
    {
     "data": {
      "image/png": "[encoded data removed]",
      "text/plain": [
       "<Figure size 432x288 with 1 Axes>"
      ]
     },
     "metadata": {
      "needs_background": "light"
     },
     "output_type": "display_data"
    }
   ],
   "source": [
    "plot_winner(shots_2001,\"200111250GSW\",missed=False)"
   ]
  },
  {
   "cell_type": "code",
   "execution_count": 105,
   "metadata": {},
   "outputs": [],
   "source": [
    "#export\n",
    "def plot_loser(df, game_id,made=True,missed=True):\n",
    "    \"Plots the shot chart for the winner team of `game_id`\"\n",
    "    img = plt.imread(\"http://d2p3bygnnzw9w3.cloudfront.net/req/1/images/bbr/nbahalfcourt.png\")\n",
    "    implot = plt.imshow(img, extent=[0,500,0,472])\n",
    "    #find winner first\n",
    "    loser = df.loc[df[\"game_id\"]==game_id].iloc[0][\"loser\"]\n",
    "    shots_df = df.loc[(df[\"game_id\"]==game_id) & (df[\"team\"]==loser)]\n",
    "    #misses vs made\n",
    "    if made:\n",
    "        mades_df = shots_df.loc[shots_df['outcome']=='made']\n",
    "        ys = mades_df['x'].apply(lambda x: x.split(\"px\")[0]).to_list()\n",
    "        ys = [472 - int(x) for x in ys]\n",
    "        xs = mades_df['y'].apply(lambda x: int(x.split(\"px\")[0])).to_list()\n",
    "        plt.scatter(xs,ys)\n",
    "    if missed:\n",
    "        misses_df = shots_df.loc[shots_df['outcome']=='missed']\n",
    "        ys = misses_df['x'].apply(lambda x: x.split(\"px\")[0]).to_list()\n",
    "        ys = [472 - int(x) for x in ys]\n",
    "        xs = misses_df['y'].apply(lambda x: int(x.split(\"px\")[0])).to_list()\n",
    "        plt.scatter(xs,ys,marker=\"x\")\n",
    "    plt.show()"
   ]
  },
  {
   "cell_type": "code",
   "execution_count": 106,
   "metadata": {},
   "outputs": [
    {
     "data": {
      "image/png": "[encoded data removed]",
      "text/plain": [
       "<Figure size 432x288 with 1 Axes>"
      ]
     },
     "metadata": {
      "needs_background": "light"
     },
     "output_type": "display_data"
    }
   ],
   "source": [
    "plot_loser(shots_2001,\"200111250GSW\",missed=False)"
   ]
  },
  {
   "cell_type": "markdown",
   "metadata": {},
   "source": [
    "## Export -"
   ]
  },
  {
   "cell_type": "code",
   "execution_count": 58,
   "metadata": {},
   "outputs": [
    {
     "name": "stdout",
     "output_type": "stream",
     "text": [
      "Converted 00_core.ipynb.\n",
      "Converted index.ipynb.\n"
     ]
    }
   ],
   "source": [
    "#hide\n",
    "from nbdev.export import notebook2script\n",
    "notebook2script()"
   ]
  },
  {
   "cell_type": "code",
   "execution_count": null,
   "metadata": {},
   "outputs": [],
   "source": []
  }
 ],
 "metadata": {
  "kernelspec": {
   "display_name": "Python [conda env:shot_chart]",
   "language": "python",
   "name": "conda-env-shot_chart-py"
  },
  "language_info": {
   "codemirror_mode": {
    "name": "ipython",
    "version": 3
   },
   "file_extension": ".py",
   "mimetype": "text/x-python",
   "name": "python",
   "nbconvert_exporter": "python",
   "pygments_lexer": "ipython3",
   "version": "3.7.6"
  }
 },
 "nbformat": 4,
 "nbformat_minor": 2
}
